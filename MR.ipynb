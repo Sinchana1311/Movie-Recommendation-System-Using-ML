{
 "cells": [
  {
   "cell_type": "code",
   "execution_count": 34,
   "id": "c16b55d2-2088-4cc0-b285-3638e0e428cd",
   "metadata": {},
   "outputs": [],
   "source": [
    "import pandas as pd"
   ]
  },
  {
   "cell_type": "code",
   "execution_count": 35,
   "id": "d8b60d38-acb6-422d-a317-fea827d17258",
   "metadata": {},
   "outputs": [],
   "source": [
    "data = pd.read_csv(r'C:/Users/sinch/Documents/Movie Recommendation/netflix_titles.csv')"
   ]
  },
  {
   "cell_type": "code",
   "execution_count": 36,
   "id": "0116aed3-d8e4-4dfa-9221-ff95897ae1de",
   "metadata": {},
   "outputs": [],
   "source": [
    "data['tags'] = data['director']+ ' ' + data['cast'] +' ' + data['listed_in'] +' '+ data['description']"
   ]
  },
  {
   "cell_type": "code",
   "execution_count": 37,
   "id": "01066c29-7fb3-4596-9226-16d240797571",
   "metadata": {},
   "outputs": [],
   "source": [
    "data = data[['show_id','type','title','tags']]"
   ]
  },
  {
   "cell_type": "code",
   "execution_count": 38,
   "id": "88c07d9a-b20d-405a-b81e-a6b17dd8df29",
   "metadata": {},
   "outputs": [],
   "source": [
    "data.dropna(inplace=True)"
   ]
  },
  {
   "cell_type": "code",
   "execution_count": 39,
   "id": "060acde7-ca13-4415-a962-d04e719dc18f",
   "metadata": {},
   "outputs": [],
   "source": [
    "data.reset_index(inplace=True, drop=True)"
   ]
  },
  {
   "cell_type": "code",
   "execution_count": 40,
   "id": "f5e37727-01f6-49fe-b4ee-a97e904c43b1",
   "metadata": {},
   "outputs": [
    {
     "data": {
      "text/html": [
       "<div>\n",
       "<style scoped>\n",
       "    .dataframe tbody tr th:only-of-type {\n",
       "        vertical-align: middle;\n",
       "    }\n",
       "\n",
       "    .dataframe tbody tr th {\n",
       "        vertical-align: top;\n",
       "    }\n",
       "\n",
       "    .dataframe thead th {\n",
       "        text-align: right;\n",
       "    }\n",
       "</style>\n",
       "<table border=\"1\" class=\"dataframe\">\n",
       "  <thead>\n",
       "    <tr style=\"text-align: right;\">\n",
       "      <th></th>\n",
       "      <th>show_id</th>\n",
       "      <th>type</th>\n",
       "      <th>title</th>\n",
       "      <th>tags</th>\n",
       "    </tr>\n",
       "  </thead>\n",
       "  <tbody>\n",
       "    <tr>\n",
       "      <th>0</th>\n",
       "      <td>s3</td>\n",
       "      <td>TV Show</td>\n",
       "      <td>Ganglands</td>\n",
       "      <td>Julien Leclercq Sami Bouajila, Tracy Gotoas, S...</td>\n",
       "    </tr>\n",
       "    <tr>\n",
       "      <th>1</th>\n",
       "      <td>s6</td>\n",
       "      <td>TV Show</td>\n",
       "      <td>Midnight Mass</td>\n",
       "      <td>Mike Flanagan Kate Siegel, Zach Gilford, Hamis...</td>\n",
       "    </tr>\n",
       "    <tr>\n",
       "      <th>2</th>\n",
       "      <td>s7</td>\n",
       "      <td>Movie</td>\n",
       "      <td>My Little Pony: A New Generation</td>\n",
       "      <td>Robert Cullen, José Luis Ucha Vanessa Hudgens,...</td>\n",
       "    </tr>\n",
       "    <tr>\n",
       "      <th>3</th>\n",
       "      <td>s8</td>\n",
       "      <td>Movie</td>\n",
       "      <td>Sankofa</td>\n",
       "      <td>Haile Gerima Kofi Ghanaba, Oyafunmike Ogunlano...</td>\n",
       "    </tr>\n",
       "    <tr>\n",
       "      <th>4</th>\n",
       "      <td>s9</td>\n",
       "      <td>TV Show</td>\n",
       "      <td>The Great British Baking Show</td>\n",
       "      <td>Andy Devonshire Mel Giedroyc, Sue Perkins, Mar...</td>\n",
       "    </tr>\n",
       "    <tr>\n",
       "      <th>...</th>\n",
       "      <td>...</td>\n",
       "      <td>...</td>\n",
       "      <td>...</td>\n",
       "      <td>...</td>\n",
       "    </tr>\n",
       "    <tr>\n",
       "      <th>5695</th>\n",
       "      <td>s8802</td>\n",
       "      <td>Movie</td>\n",
       "      <td>Zinzana</td>\n",
       "      <td>Majid Al Ansari Ali Suliman, Saleh Bakri, Yasa...</td>\n",
       "    </tr>\n",
       "    <tr>\n",
       "      <th>5696</th>\n",
       "      <td>s8803</td>\n",
       "      <td>Movie</td>\n",
       "      <td>Zodiac</td>\n",
       "      <td>David Fincher Mark Ruffalo, Jake Gyllenhaal, R...</td>\n",
       "    </tr>\n",
       "    <tr>\n",
       "      <th>5697</th>\n",
       "      <td>s8805</td>\n",
       "      <td>Movie</td>\n",
       "      <td>Zombieland</td>\n",
       "      <td>Ruben Fleischer Jesse Eisenberg, Woody Harrels...</td>\n",
       "    </tr>\n",
       "    <tr>\n",
       "      <th>5698</th>\n",
       "      <td>s8806</td>\n",
       "      <td>Movie</td>\n",
       "      <td>Zoom</td>\n",
       "      <td>Peter Hewitt Tim Allen, Courteney Cox, Chevy C...</td>\n",
       "    </tr>\n",
       "    <tr>\n",
       "      <th>5699</th>\n",
       "      <td>s8807</td>\n",
       "      <td>Movie</td>\n",
       "      <td>Zubaan</td>\n",
       "      <td>Mozez Singh Vicky Kaushal, Sarah-Jane Dias, Ra...</td>\n",
       "    </tr>\n",
       "  </tbody>\n",
       "</table>\n",
       "<p>5700 rows × 4 columns</p>\n",
       "</div>"
      ],
      "text/plain": [
       "     show_id     type                             title  \\\n",
       "0         s3  TV Show                         Ganglands   \n",
       "1         s6  TV Show                     Midnight Mass   \n",
       "2         s7    Movie  My Little Pony: A New Generation   \n",
       "3         s8    Movie                           Sankofa   \n",
       "4         s9  TV Show     The Great British Baking Show   \n",
       "...      ...      ...                               ...   \n",
       "5695   s8802    Movie                           Zinzana   \n",
       "5696   s8803    Movie                            Zodiac   \n",
       "5697   s8805    Movie                        Zombieland   \n",
       "5698   s8806    Movie                              Zoom   \n",
       "5699   s8807    Movie                            Zubaan   \n",
       "\n",
       "                                                   tags  \n",
       "0     Julien Leclercq Sami Bouajila, Tracy Gotoas, S...  \n",
       "1     Mike Flanagan Kate Siegel, Zach Gilford, Hamis...  \n",
       "2     Robert Cullen, José Luis Ucha Vanessa Hudgens,...  \n",
       "3     Haile Gerima Kofi Ghanaba, Oyafunmike Ogunlano...  \n",
       "4     Andy Devonshire Mel Giedroyc, Sue Perkins, Mar...  \n",
       "...                                                 ...  \n",
       "5695  Majid Al Ansari Ali Suliman, Saleh Bakri, Yasa...  \n",
       "5696  David Fincher Mark Ruffalo, Jake Gyllenhaal, R...  \n",
       "5697  Ruben Fleischer Jesse Eisenberg, Woody Harrels...  \n",
       "5698  Peter Hewitt Tim Allen, Courteney Cox, Chevy C...  \n",
       "5699  Mozez Singh Vicky Kaushal, Sarah-Jane Dias, Ra...  \n",
       "\n",
       "[5700 rows x 4 columns]"
      ]
     },
     "execution_count": 40,
     "metadata": {},
     "output_type": "execute_result"
    }
   ],
   "source": [
    "data"
   ]
  },
  {
   "cell_type": "code",
   "execution_count": 41,
   "id": "7873c398-8aa0-4573-99b9-9584d7722874",
   "metadata": {},
   "outputs": [],
   "source": [
    "from sklearn.feature_extraction.text import CountVectorizer"
   ]
  },
  {
   "cell_type": "code",
   "execution_count": 42,
   "id": "5c91fb81-d287-4b40-b007-d6f012155fd4",
   "metadata": {},
   "outputs": [],
   "source": [
    "cv = CountVectorizer(max_features=5700,stop_words='english')"
   ]
  },
  {
   "cell_type": "code",
   "execution_count": 43,
   "id": "6c5cc421-2956-4dab-ad17-b3cedd723cec",
   "metadata": {},
   "outputs": [],
   "source": [
    "from sklearn.metrics.pairwise import cosine_similarity"
   ]
  },
  {
   "cell_type": "code",
   "execution_count": 44,
   "id": "d575e0d5-f8a1-46c7-abf5-f6898ab23b2a",
   "metadata": {},
   "outputs": [],
   "source": [
    "vector = cv.fit_transform(data['tags'].values.astype('U')).toarray()"
   ]
  },
  {
   "cell_type": "code",
   "execution_count": 45,
   "id": "f63918bc-f8dd-4f00-988a-2a4a2b40032a",
   "metadata": {},
   "outputs": [],
   "source": [
    "similarity = cosine_similarity(vector)"
   ]
  },
  {
   "cell_type": "code",
   "execution_count": 46,
   "id": "6b782457-eae1-4f4e-b61b-5a02174f737d",
   "metadata": {},
   "outputs": [
    {
     "data": {
      "text/plain": [
       "array([[1.        , 0.21764288, 0.05647825, ..., 0.        , 0.03121953,\n",
       "        0.06024752],\n",
       "       [0.21764288, 1.        , 0.02594996, ..., 0.02923527, 0.05737753,\n",
       "        0.02768183],\n",
       "       [0.05647825, 0.02594996, 1.        , ..., 0.03413944, 0.13400504,\n",
       "        0.09697623],\n",
       "       ...,\n",
       "       [0.        , 0.02923527, 0.03413944, ..., 1.        , 0.1132277 ,\n",
       "        0.03641785],\n",
       "       [0.03121953, 0.05737753, 0.13400504, ..., 0.1132277 , 1.        ,\n",
       "        0.07147417],\n",
       "       [0.06024752, 0.02768183, 0.09697623, ..., 0.03641785, 0.07147417,\n",
       "        1.        ]])"
      ]
     },
     "execution_count": 46,
     "metadata": {},
     "output_type": "execute_result"
    }
   ],
   "source": [
    "similarity"
   ]
  },
  {
   "cell_type": "code",
   "execution_count": 47,
   "id": "2f105787-b63f-49a6-a50e-38a87b871adc",
   "metadata": {},
   "outputs": [
    {
     "data": {
      "text/plain": [
       "5696"
      ]
     },
     "execution_count": 47,
     "metadata": {},
     "output_type": "execute_result"
    }
   ],
   "source": [
    "data[data['title']=='Zodiac'].index[0]"
   ]
  },
  {
   "cell_type": "code",
   "execution_count": 48,
   "id": "764e96fa-39b1-4057-8cf9-8a541c9e9138",
   "metadata": {},
   "outputs": [],
   "source": [
    "similar_movies=sorted(list(enumerate(similarity[5696])),reverse=True, key=lambda vector:vector[1])"
   ]
  },
  {
   "cell_type": "code",
   "execution_count": 49,
   "id": "30517522-e064-4941-bf07-2e147e8a7d82",
   "metadata": {},
   "outputs": [
    {
     "name": "stdout",
     "output_type": "stream",
     "text": [
      "Zodiac\n",
      "1.0\n",
      "To and From New York\n",
      "0.2637521893583148\n",
      "Gothika\n",
      "0.2637521893583148\n",
      "WHAT DID JACK DO?\n",
      "0.2449489742783178\n",
      "Interrogation\n",
      "0.223606797749979\n",
      "The Highwaymen\n",
      "0.22019275302527214\n"
     ]
    }
   ],
   "source": [
    "for i in similar_movies[0:6]:\n",
    "    print(data.iloc[i[0]].title)\n",
    "    print(i[1])"
   ]
  },
  {
   "cell_type": "code",
   "execution_count": 50,
   "id": "b230c6ef-6ad7-4668-a074-34f3a700f042",
   "metadata": {},
   "outputs": [],
   "source": [
    "def recommend_movie(movie_name):\n",
    "    movie_index = data[data['title']==movie_name].index[0]\n",
    "    similar_movies=sorted(list(enumerate(similarity[movie_index])),reverse=True, key=lambda vector:vector[1])\n",
    "    for i in similar_movies[1:6]:\n",
    "        print(data.iloc[i[0]].title +' with similarity of '+ str(round(i[1]*100,2)))\n"
   ]
  },
  {
   "cell_type": "code",
   "execution_count": 51,
   "id": "35a18931-70bf-47c4-a686-66690281c479",
   "metadata": {},
   "outputs": [
    {
     "name": "stdout",
     "output_type": "stream",
     "text": [
      "Bangkok Breaking with similarity of 51.21\n",
      "Dealer with similarity of 50.83\n",
      "The Forest of Love: Deep Cut with similarity of 50.74\n",
      "Sleepless Society: Two Pillows & A Lost Soul with similarity of 49.67\n",
      "Unlucky Ploy with similarity of 47.36\n"
     ]
    }
   ],
   "source": [
    "recommend_movie('Ganglands')"
   ]
  },
  {
   "cell_type": "code",
   "execution_count": 52,
   "id": "16c31771-e3c8-448f-b9d9-6ef0fcb99630",
   "metadata": {},
   "outputs": [],
   "source": [
    "import pickle as pk"
   ]
  },
  {
   "cell_type": "code",
   "execution_count": 56,
   "id": "8df9aef8-af72-4ce7-b09f-db628c8c0a1c",
   "metadata": {},
   "outputs": [],
   "source": [
    "pk.dump(data, open(r'C:/Users/sinch/Documents/Movie Recommendation/netflix_titles.csv', 'wb'))\n"
   ]
  },
  {
   "cell_type": "code",
   "execution_count": 55,
   "id": "4a85ba7d-d12b-40d0-a8cf-f6bd9d0e36ec",
   "metadata": {},
   "outputs": [],
   "source": [
    "pk.dump(similarity, open('similarity.pkl','wb'))"
   ]
  },
  {
   "cell_type": "code",
   "execution_count": null,
   "id": "e5c2e41e-96ed-48bf-ba1d-af2553c6934b",
   "metadata": {},
   "outputs": [],
   "source": []
  }
 ],
 "metadata": {
  "kernelspec": {
   "display_name": "Python 3 (ipykernel)",
   "language": "python",
   "name": "python3"
  },
  "language_info": {
   "codemirror_mode": {
    "name": "ipython",
    "version": 3
   },
   "file_extension": ".py",
   "mimetype": "text/x-python",
   "name": "python",
   "nbconvert_exporter": "python",
   "pygments_lexer": "ipython3",
   "version": "3.11.7"
  }
 },
 "nbformat": 4,
 "nbformat_minor": 5
}
